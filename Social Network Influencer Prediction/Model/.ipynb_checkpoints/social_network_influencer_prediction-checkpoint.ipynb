{
 "cells": [
  {
   "cell_type": "markdown",
   "metadata": {
    "id": "SXC2do8lT4gt"
   },
   "source": [
    "**Predict which people are influential in a social network**"
   ]
  },
  {
   "cell_type": "code",
   "execution_count": 1,
   "metadata": {
    "colab": {
     "base_uri": "https://localhost:8080/"
    },
    "id": "ZokxNKpLTL5z",
    "outputId": "7b167cdb-ce10-49ee-d8f5-14896a55572b"
   },
   "outputs": [],
   "source": [
    "# from google.colab import drive\n",
    "# drive.mount('drive')"
   ]
  },
  {
   "cell_type": "code",
   "execution_count": 2,
   "metadata": {
    "id": "Twyn208bTXSh"
   },
   "outputs": [],
   "source": [
    "# import library\n",
    "import numpy as np\n",
    "import pandas as pd\n",
    "import matplotlib.pyplot as plt\n",
    "import seaborn as sns"
   ]
  },
  {
   "cell_type": "code",
   "execution_count": 3,
   "metadata": {
    "colab": {
     "base_uri": "https://localhost:8080/",
     "height": 222
    },
    "id": "qd4uRU0yUqIS",
    "outputId": "d794050a-b6c4-4941-ee31-58a4a26b3677"
   },
   "outputs": [
    {
     "data": {
      "text/html": [
       "<div>\n",
       "<style scoped>\n",
       "    .dataframe tbody tr th:only-of-type {\n",
       "        vertical-align: middle;\n",
       "    }\n",
       "\n",
       "    .dataframe tbody tr th {\n",
       "        vertical-align: top;\n",
       "    }\n",
       "\n",
       "    .dataframe thead th {\n",
       "        text-align: right;\n",
       "    }\n",
       "</style>\n",
       "<table border=\"1\" class=\"dataframe\">\n",
       "  <thead>\n",
       "    <tr style=\"text-align: right;\">\n",
       "      <th></th>\n",
       "      <th>Choice</th>\n",
       "      <th>A_follower_count</th>\n",
       "      <th>A_following_count</th>\n",
       "      <th>A_listed_count</th>\n",
       "      <th>A_mentions_received</th>\n",
       "      <th>A_retweets_received</th>\n",
       "      <th>A_mentions_sent</th>\n",
       "      <th>A_retweets_sent</th>\n",
       "      <th>A_posts</th>\n",
       "      <th>A_network_feature_1</th>\n",
       "      <th>...</th>\n",
       "      <th>B_following_count</th>\n",
       "      <th>B_listed_count</th>\n",
       "      <th>B_mentions_received</th>\n",
       "      <th>B_retweets_received</th>\n",
       "      <th>B_mentions_sent</th>\n",
       "      <th>B_retweets_sent</th>\n",
       "      <th>B_posts</th>\n",
       "      <th>B_network_feature_1</th>\n",
       "      <th>B_network_feature_2</th>\n",
       "      <th>B_network_feature_3</th>\n",
       "    </tr>\n",
       "  </thead>\n",
       "  <tbody>\n",
       "    <tr>\n",
       "      <th>0</th>\n",
       "      <td>0</td>\n",
       "      <td>228</td>\n",
       "      <td>302</td>\n",
       "      <td>3</td>\n",
       "      <td>0.583979</td>\n",
       "      <td>0.100503</td>\n",
       "      <td>0.100503</td>\n",
       "      <td>0.100503</td>\n",
       "      <td>0.362150</td>\n",
       "      <td>2</td>\n",
       "      <td>...</td>\n",
       "      <td>29808</td>\n",
       "      <td>1689</td>\n",
       "      <td>15.430498</td>\n",
       "      <td>3.984029</td>\n",
       "      <td>8.204331</td>\n",
       "      <td>0.332423</td>\n",
       "      <td>6.988815</td>\n",
       "      <td>66</td>\n",
       "      <td>75.530303</td>\n",
       "      <td>1916.893939</td>\n",
       "    </tr>\n",
       "    <tr>\n",
       "      <th>1</th>\n",
       "      <td>0</td>\n",
       "      <td>21591</td>\n",
       "      <td>1179</td>\n",
       "      <td>228</td>\n",
       "      <td>90.456506</td>\n",
       "      <td>25.798292</td>\n",
       "      <td>5.709329</td>\n",
       "      <td>1.111159</td>\n",
       "      <td>5.176620</td>\n",
       "      <td>369</td>\n",
       "      <td>...</td>\n",
       "      <td>848</td>\n",
       "      <td>1610</td>\n",
       "      <td>40.495021</td>\n",
       "      <td>8.943607</td>\n",
       "      <td>3.227677</td>\n",
       "      <td>0.564343</td>\n",
       "      <td>1.070321</td>\n",
       "      <td>163</td>\n",
       "      <td>132.030675</td>\n",
       "      <td>2931.515337</td>\n",
       "    </tr>\n",
       "    <tr>\n",
       "      <th>2</th>\n",
       "      <td>0</td>\n",
       "      <td>7310</td>\n",
       "      <td>1215</td>\n",
       "      <td>101</td>\n",
       "      <td>25.503644</td>\n",
       "      <td>9.556347</td>\n",
       "      <td>5.361519</td>\n",
       "      <td>0.591206</td>\n",
       "      <td>3.589718</td>\n",
       "      <td>95</td>\n",
       "      <td>...</td>\n",
       "      <td>482</td>\n",
       "      <td>206</td>\n",
       "      <td>0.734696</td>\n",
       "      <td>0.354379</td>\n",
       "      <td>0.603202</td>\n",
       "      <td>0.100503</td>\n",
       "      <td>0.603202</td>\n",
       "      <td>3</td>\n",
       "      <td>10.333333</td>\n",
       "      <td>277.333333</td>\n",
       "    </tr>\n",
       "    <tr>\n",
       "      <th>3</th>\n",
       "      <td>0</td>\n",
       "      <td>20</td>\n",
       "      <td>7</td>\n",
       "      <td>2</td>\n",
       "      <td>7.690824</td>\n",
       "      <td>0.277306</td>\n",
       "      <td>1.331508</td>\n",
       "      <td>0.100503</td>\n",
       "      <td>2.830627</td>\n",
       "      <td>6</td>\n",
       "      <td>...</td>\n",
       "      <td>17637</td>\n",
       "      <td>278</td>\n",
       "      <td>572.874856</td>\n",
       "      <td>390.293681</td>\n",
       "      <td>27.552040</td>\n",
       "      <td>7.167557</td>\n",
       "      <td>32.101906</td>\n",
       "      <td>1762</td>\n",
       "      <td>23.469296</td>\n",
       "      <td>1395.845634</td>\n",
       "    </tr>\n",
       "    <tr>\n",
       "      <th>4</th>\n",
       "      <td>1</td>\n",
       "      <td>45589</td>\n",
       "      <td>862</td>\n",
       "      <td>2641</td>\n",
       "      <td>148.854279</td>\n",
       "      <td>36.998884</td>\n",
       "      <td>27.881768</td>\n",
       "      <td>3.333492</td>\n",
       "      <td>23.861282</td>\n",
       "      <td>551</td>\n",
       "      <td>...</td>\n",
       "      <td>1711</td>\n",
       "      <td>181</td>\n",
       "      <td>21.601866</td>\n",
       "      <td>3.581661</td>\n",
       "      <td>6.764657</td>\n",
       "      <td>1.119727</td>\n",
       "      <td>4.563246</td>\n",
       "      <td>85</td>\n",
       "      <td>48.500000</td>\n",
       "      <td>1993.627907</td>\n",
       "    </tr>\n",
       "  </tbody>\n",
       "</table>\n",
       "<p>5 rows × 23 columns</p>\n",
       "</div>"
      ],
      "text/plain": [
       "   Choice  A_follower_count  A_following_count  A_listed_count  \\\n",
       "0       0               228                302               3   \n",
       "1       0             21591               1179             228   \n",
       "2       0              7310               1215             101   \n",
       "3       0                20                  7               2   \n",
       "4       1             45589                862            2641   \n",
       "\n",
       "   A_mentions_received  A_retweets_received  A_mentions_sent  A_retweets_sent  \\\n",
       "0             0.583979             0.100503         0.100503         0.100503   \n",
       "1            90.456506            25.798292         5.709329         1.111159   \n",
       "2            25.503644             9.556347         5.361519         0.591206   \n",
       "3             7.690824             0.277306         1.331508         0.100503   \n",
       "4           148.854279            36.998884        27.881768         3.333492   \n",
       "\n",
       "     A_posts  A_network_feature_1  ...  B_following_count  B_listed_count  \\\n",
       "0   0.362150                    2  ...              29808            1689   \n",
       "1   5.176620                  369  ...                848            1610   \n",
       "2   3.589718                   95  ...                482             206   \n",
       "3   2.830627                    6  ...              17637             278   \n",
       "4  23.861282                  551  ...               1711             181   \n",
       "\n",
       "   B_mentions_received  B_retweets_received  B_mentions_sent  B_retweets_sent  \\\n",
       "0            15.430498             3.984029         8.204331         0.332423   \n",
       "1            40.495021             8.943607         3.227677         0.564343   \n",
       "2             0.734696             0.354379         0.603202         0.100503   \n",
       "3           572.874856           390.293681        27.552040         7.167557   \n",
       "4            21.601866             3.581661         6.764657         1.119727   \n",
       "\n",
       "     B_posts  B_network_feature_1  B_network_feature_2  B_network_feature_3  \n",
       "0   6.988815                   66            75.530303          1916.893939  \n",
       "1   1.070321                  163           132.030675          2931.515337  \n",
       "2   0.603202                    3            10.333333           277.333333  \n",
       "3  32.101906                 1762            23.469296          1395.845634  \n",
       "4   4.563246                   85            48.500000          1993.627907  \n",
       "\n",
       "[5 rows x 23 columns]"
      ]
     },
     "execution_count": 3,
     "metadata": {},
     "output_type": "execute_result"
    }
   ],
   "source": [
    "df_train = pd.read_csv('D:/ML/Social Network Influencer Prediction/Dataset/train.csv')\n",
    "df_test = pd.read_csv('D:/ML/Social Network Influencer Prediction/Dataset/test.csv')\n",
    "df_train.head()"
   ]
  },
  {
   "cell_type": "code",
   "execution_count": 4,
   "metadata": {
    "colab": {
     "base_uri": "https://localhost:8080/"
    },
    "id": "UKOpyaLoUyvo",
    "outputId": "9a2d336a-ead4-4361-c8af-2ccbe6b01b21"
   },
   "outputs": [
    {
     "name": "stdout",
     "output_type": "stream",
     "text": [
      "<class 'pandas.core.frame.DataFrame'>\n",
      "RangeIndex: 5500 entries, 0 to 5499\n",
      "Data columns (total 23 columns):\n",
      " #   Column               Non-Null Count  Dtype  \n",
      "---  ------               --------------  -----  \n",
      " 0   Choice               5500 non-null   int64  \n",
      " 1   A_follower_count     5500 non-null   int64  \n",
      " 2   A_following_count    5500 non-null   int64  \n",
      " 3   A_listed_count       5500 non-null   int64  \n",
      " 4   A_mentions_received  5500 non-null   float64\n",
      " 5   A_retweets_received  5500 non-null   float64\n",
      " 6   A_mentions_sent      5500 non-null   float64\n",
      " 7   A_retweets_sent      5500 non-null   float64\n",
      " 8   A_posts              5500 non-null   float64\n",
      " 9   A_network_feature_1  5500 non-null   int64  \n",
      " 10  A_network_feature_2  5500 non-null   float64\n",
      " 11  A_network_feature_3  5500 non-null   float64\n",
      " 12  B_follower_count     5500 non-null   int64  \n",
      " 13  B_following_count    5500 non-null   int64  \n",
      " 14  B_listed_count       5500 non-null   int64  \n",
      " 15  B_mentions_received  5500 non-null   float64\n",
      " 16  B_retweets_received  5500 non-null   float64\n",
      " 17  B_mentions_sent      5500 non-null   float64\n",
      " 18  B_retweets_sent      5500 non-null   float64\n",
      " 19  B_posts              5500 non-null   float64\n",
      " 20  B_network_feature_1  5500 non-null   int64  \n",
      " 21  B_network_feature_2  5500 non-null   float64\n",
      " 22  B_network_feature_3  5500 non-null   float64\n",
      "dtypes: float64(14), int64(9)\n",
      "memory usage: 988.4 KB\n"
     ]
    }
   ],
   "source": [
    "df_train.info()"
   ]
  },
  {
   "cell_type": "code",
   "execution_count": 5,
   "metadata": {
    "colab": {
     "base_uri": "https://localhost:8080/",
     "height": 314
    },
    "id": "5ZG1UlrKU6j4",
    "outputId": "6e4a5d5b-9ad0-4bf5-b7d9-9a77d72bb1ce"
   },
   "outputs": [
    {
     "data": {
      "text/html": [
       "<div>\n",
       "<style scoped>\n",
       "    .dataframe tbody tr th:only-of-type {\n",
       "        vertical-align: middle;\n",
       "    }\n",
       "\n",
       "    .dataframe tbody tr th {\n",
       "        vertical-align: top;\n",
       "    }\n",
       "\n",
       "    .dataframe thead th {\n",
       "        text-align: right;\n",
       "    }\n",
       "</style>\n",
       "<table border=\"1\" class=\"dataframe\">\n",
       "  <thead>\n",
       "    <tr style=\"text-align: right;\">\n",
       "      <th></th>\n",
       "      <th>Choice</th>\n",
       "      <th>A_follower_count</th>\n",
       "      <th>A_following_count</th>\n",
       "      <th>A_listed_count</th>\n",
       "      <th>A_mentions_received</th>\n",
       "      <th>A_retweets_received</th>\n",
       "      <th>A_mentions_sent</th>\n",
       "      <th>A_retweets_sent</th>\n",
       "      <th>A_posts</th>\n",
       "      <th>A_network_feature_1</th>\n",
       "      <th>...</th>\n",
       "      <th>B_following_count</th>\n",
       "      <th>B_listed_count</th>\n",
       "      <th>B_mentions_received</th>\n",
       "      <th>B_retweets_received</th>\n",
       "      <th>B_mentions_sent</th>\n",
       "      <th>B_retweets_sent</th>\n",
       "      <th>B_posts</th>\n",
       "      <th>B_network_feature_1</th>\n",
       "      <th>B_network_feature_2</th>\n",
       "      <th>B_network_feature_3</th>\n",
       "    </tr>\n",
       "  </thead>\n",
       "  <tbody>\n",
       "    <tr>\n",
       "      <th>count</th>\n",
       "      <td>5500.000000</td>\n",
       "      <td>5.500000e+03</td>\n",
       "      <td>5.500000e+03</td>\n",
       "      <td>5500.000000</td>\n",
       "      <td>5.500000e+03</td>\n",
       "      <td>5500.000000</td>\n",
       "      <td>5500.000000</td>\n",
       "      <td>5500.000000</td>\n",
       "      <td>5500.000000</td>\n",
       "      <td>5500.000000</td>\n",
       "      <td>...</td>\n",
       "      <td>5500.000000</td>\n",
       "      <td>5500.000000</td>\n",
       "      <td>5.500000e+03</td>\n",
       "      <td>5500.000000</td>\n",
       "      <td>5500.000000</td>\n",
       "      <td>5500.000000</td>\n",
       "      <td>5500.000000</td>\n",
       "      <td>5500.000000</td>\n",
       "      <td>5500.000000</td>\n",
       "      <td>5500.000000</td>\n",
       "    </tr>\n",
       "    <tr>\n",
       "      <th>mean</th>\n",
       "      <td>0.509455</td>\n",
       "      <td>6.498840e+05</td>\n",
       "      <td>1.265895e+04</td>\n",
       "      <td>5952.453273</td>\n",
       "      <td>2.666032e+03</td>\n",
       "      <td>1032.371839</td>\n",
       "      <td>6.011873</td>\n",
       "      <td>1.109924</td>\n",
       "      <td>9.090730</td>\n",
       "      <td>5267.768000</td>\n",
       "      <td>...</td>\n",
       "      <td>12738.259818</td>\n",
       "      <td>5903.148364</td>\n",
       "      <td>2.554598e+03</td>\n",
       "      <td>997.149954</td>\n",
       "      <td>6.099658</td>\n",
       "      <td>1.106236</td>\n",
       "      <td>9.505821</td>\n",
       "      <td>5254.933636</td>\n",
       "      <td>85.024196</td>\n",
       "      <td>3745.175480</td>\n",
       "    </tr>\n",
       "    <tr>\n",
       "      <th>std</th>\n",
       "      <td>0.499956</td>\n",
       "      <td>2.028787e+06</td>\n",
       "      <td>4.900867e+04</td>\n",
       "      <td>17339.141191</td>\n",
       "      <td>2.916543e+04</td>\n",
       "      <td>10954.953223</td>\n",
       "      <td>9.519797</td>\n",
       "      <td>1.910104</td>\n",
       "      <td>18.311060</td>\n",
       "      <td>28946.777345</td>\n",
       "      <td>...</td>\n",
       "      <td>50054.520874</td>\n",
       "      <td>16298.462018</td>\n",
       "      <td>2.508873e+04</td>\n",
       "      <td>9342.006880</td>\n",
       "      <td>9.729557</td>\n",
       "      <td>1.939914</td>\n",
       "      <td>19.424680</td>\n",
       "      <td>26778.820125</td>\n",
       "      <td>106.689384</td>\n",
       "      <td>5518.399590</td>\n",
       "    </tr>\n",
       "    <tr>\n",
       "      <th>min</th>\n",
       "      <td>0.000000</td>\n",
       "      <td>1.600000e+01</td>\n",
       "      <td>0.000000e+00</td>\n",
       "      <td>0.000000</td>\n",
       "      <td>1.005034e-01</td>\n",
       "      <td>0.100503</td>\n",
       "      <td>0.100503</td>\n",
       "      <td>0.100503</td>\n",
       "      <td>0.100503</td>\n",
       "      <td>0.000000</td>\n",
       "      <td>...</td>\n",
       "      <td>0.000000</td>\n",
       "      <td>0.000000</td>\n",
       "      <td>1.005034e-01</td>\n",
       "      <td>0.100503</td>\n",
       "      <td>0.100503</td>\n",
       "      <td>0.100503</td>\n",
       "      <td>0.100503</td>\n",
       "      <td>0.000000</td>\n",
       "      <td>0.000000</td>\n",
       "      <td>0.000000</td>\n",
       "    </tr>\n",
       "    <tr>\n",
       "      <th>25%</th>\n",
       "      <td>0.000000</td>\n",
       "      <td>2.663750e+03</td>\n",
       "      <td>3.220000e+02</td>\n",
       "      <td>85.000000</td>\n",
       "      <td>3.453649e+00</td>\n",
       "      <td>0.716816</td>\n",
       "      <td>0.359534</td>\n",
       "      <td>0.100503</td>\n",
       "      <td>0.632440</td>\n",
       "      <td>12.000000</td>\n",
       "      <td>...</td>\n",
       "      <td>322.000000</td>\n",
       "      <td>75.000000</td>\n",
       "      <td>3.260473e+00</td>\n",
       "      <td>0.714556</td>\n",
       "      <td>0.356943</td>\n",
       "      <td>0.100503</td>\n",
       "      <td>0.822584</td>\n",
       "      <td>11.000000</td>\n",
       "      <td>15.176568</td>\n",
       "      <td>1206.500000</td>\n",
       "    </tr>\n",
       "    <tr>\n",
       "      <th>50%</th>\n",
       "      <td>1.000000</td>\n",
       "      <td>4.558900e+04</td>\n",
       "      <td>7.780000e+02</td>\n",
       "      <td>932.000000</td>\n",
       "      <td>4.876542e+01</td>\n",
       "      <td>14.029113</td>\n",
       "      <td>2.299666</td>\n",
       "      <td>0.341936</td>\n",
       "      <td>3.555194</td>\n",
       "      <td>195.000000</td>\n",
       "      <td>...</td>\n",
       "      <td>773.000000</td>\n",
       "      <td>890.000000</td>\n",
       "      <td>4.876542e+01</td>\n",
       "      <td>14.029113</td>\n",
       "      <td>2.251398</td>\n",
       "      <td>0.341936</td>\n",
       "      <td>3.342999</td>\n",
       "      <td>190.000000</td>\n",
       "      <td>54.925234</td>\n",
       "      <td>2206.420734</td>\n",
       "    </tr>\n",
       "    <tr>\n",
       "      <th>75%</th>\n",
       "      <td>1.000000</td>\n",
       "      <td>3.927380e+05</td>\n",
       "      <td>2.838000e+03</td>\n",
       "      <td>6734.000000</td>\n",
       "      <td>3.498196e+02</td>\n",
       "      <td>118.704407</td>\n",
       "      <td>7.198330</td>\n",
       "      <td>1.320681</td>\n",
       "      <td>10.691878</td>\n",
       "      <td>1323.000000</td>\n",
       "      <td>...</td>\n",
       "      <td>2838.000000</td>\n",
       "      <td>6734.000000</td>\n",
       "      <td>3.743699e+02</td>\n",
       "      <td>107.081021</td>\n",
       "      <td>6.866840</td>\n",
       "      <td>1.320681</td>\n",
       "      <td>10.600502</td>\n",
       "      <td>1323.000000</td>\n",
       "      <td>112.191489</td>\n",
       "      <td>4349.908608</td>\n",
       "    </tr>\n",
       "    <tr>\n",
       "      <th>max</th>\n",
       "      <td>1.000000</td>\n",
       "      <td>3.654319e+07</td>\n",
       "      <td>1.165830e+06</td>\n",
       "      <td>549144.000000</td>\n",
       "      <td>1.145219e+06</td>\n",
       "      <td>435825.874241</td>\n",
       "      <td>76.809514</td>\n",
       "      <td>16.290540</td>\n",
       "      <td>193.072418</td>\n",
       "      <td>920838.000000</td>\n",
       "      <td>...</td>\n",
       "      <td>664324.000000</td>\n",
       "      <td>549144.000000</td>\n",
       "      <td>1.145219e+06</td>\n",
       "      <td>435825.874241</td>\n",
       "      <td>76.809514</td>\n",
       "      <td>16.290540</td>\n",
       "      <td>193.072418</td>\n",
       "      <td>920838.000000</td>\n",
       "      <td>1861.583333</td>\n",
       "      <td>75526.083333</td>\n",
       "    </tr>\n",
       "  </tbody>\n",
       "</table>\n",
       "<p>8 rows × 23 columns</p>\n",
       "</div>"
      ],
      "text/plain": [
       "            Choice  A_follower_count  A_following_count  A_listed_count  \\\n",
       "count  5500.000000      5.500000e+03       5.500000e+03     5500.000000   \n",
       "mean      0.509455      6.498840e+05       1.265895e+04     5952.453273   \n",
       "std       0.499956      2.028787e+06       4.900867e+04    17339.141191   \n",
       "min       0.000000      1.600000e+01       0.000000e+00        0.000000   \n",
       "25%       0.000000      2.663750e+03       3.220000e+02       85.000000   \n",
       "50%       1.000000      4.558900e+04       7.780000e+02      932.000000   \n",
       "75%       1.000000      3.927380e+05       2.838000e+03     6734.000000   \n",
       "max       1.000000      3.654319e+07       1.165830e+06   549144.000000   \n",
       "\n",
       "       A_mentions_received  A_retweets_received  A_mentions_sent  \\\n",
       "count         5.500000e+03          5500.000000      5500.000000   \n",
       "mean          2.666032e+03          1032.371839         6.011873   \n",
       "std           2.916543e+04         10954.953223         9.519797   \n",
       "min           1.005034e-01             0.100503         0.100503   \n",
       "25%           3.453649e+00             0.716816         0.359534   \n",
       "50%           4.876542e+01            14.029113         2.299666   \n",
       "75%           3.498196e+02           118.704407         7.198330   \n",
       "max           1.145219e+06        435825.874241        76.809514   \n",
       "\n",
       "       A_retweets_sent      A_posts  A_network_feature_1  ...  \\\n",
       "count      5500.000000  5500.000000          5500.000000  ...   \n",
       "mean          1.109924     9.090730          5267.768000  ...   \n",
       "std           1.910104    18.311060         28946.777345  ...   \n",
       "min           0.100503     0.100503             0.000000  ...   \n",
       "25%           0.100503     0.632440            12.000000  ...   \n",
       "50%           0.341936     3.555194           195.000000  ...   \n",
       "75%           1.320681    10.691878          1323.000000  ...   \n",
       "max          16.290540   193.072418        920838.000000  ...   \n",
       "\n",
       "       B_following_count  B_listed_count  B_mentions_received  \\\n",
       "count        5500.000000     5500.000000         5.500000e+03   \n",
       "mean        12738.259818     5903.148364         2.554598e+03   \n",
       "std         50054.520874    16298.462018         2.508873e+04   \n",
       "min             0.000000        0.000000         1.005034e-01   \n",
       "25%           322.000000       75.000000         3.260473e+00   \n",
       "50%           773.000000      890.000000         4.876542e+01   \n",
       "75%          2838.000000     6734.000000         3.743699e+02   \n",
       "max        664324.000000   549144.000000         1.145219e+06   \n",
       "\n",
       "       B_retweets_received  B_mentions_sent  B_retweets_sent      B_posts  \\\n",
       "count          5500.000000      5500.000000      5500.000000  5500.000000   \n",
       "mean            997.149954         6.099658         1.106236     9.505821   \n",
       "std            9342.006880         9.729557         1.939914    19.424680   \n",
       "min               0.100503         0.100503         0.100503     0.100503   \n",
       "25%               0.714556         0.356943         0.100503     0.822584   \n",
       "50%              14.029113         2.251398         0.341936     3.342999   \n",
       "75%             107.081021         6.866840         1.320681    10.600502   \n",
       "max          435825.874241        76.809514        16.290540   193.072418   \n",
       "\n",
       "       B_network_feature_1  B_network_feature_2  B_network_feature_3  \n",
       "count          5500.000000          5500.000000          5500.000000  \n",
       "mean           5254.933636            85.024196          3745.175480  \n",
       "std           26778.820125           106.689384          5518.399590  \n",
       "min               0.000000             0.000000             0.000000  \n",
       "25%              11.000000            15.176568          1206.500000  \n",
       "50%             190.000000            54.925234          2206.420734  \n",
       "75%            1323.000000           112.191489          4349.908608  \n",
       "max          920838.000000          1861.583333         75526.083333  \n",
       "\n",
       "[8 rows x 23 columns]"
      ]
     },
     "execution_count": 5,
     "metadata": {},
     "output_type": "execute_result"
    }
   ],
   "source": [
    "df_train.describe()"
   ]
  },
  {
   "cell_type": "code",
   "execution_count": 6,
   "metadata": {
    "colab": {
     "base_uri": "https://localhost:8080/"
    },
    "id": "ZLoddoykVA0f",
    "outputId": "6cf62ce2-ebd6-4f5c-aab4-d643ea559c34"
   },
   "outputs": [
    {
     "data": {
      "text/plain": [
       "(5500, 23)"
      ]
     },
     "execution_count": 6,
     "metadata": {},
     "output_type": "execute_result"
    }
   ],
   "source": [
    "df_train.shape"
   ]
  },
  {
   "cell_type": "code",
   "execution_count": 7,
   "metadata": {
    "colab": {
     "base_uri": "https://localhost:8080/",
     "height": 383
    },
    "id": "LJJwV8_CVHmL",
    "outputId": "f9f0bc5b-259f-4948-9559-aa333a3ba027"
   },
   "outputs": [
    {
     "data": {
      "text/plain": [
       "<AxesSubplot:>"
      ]
     },
     "execution_count": 7,
     "metadata": {},
     "output_type": "execute_result"
    },
    {
     "data": {
      "image/png": "[encoded data removed]",
      "text/plain": [
       "<Figure size 432x288 with 2 Axes>"
      ]
     },
     "metadata": {
      "needs_background": "light"
     },
     "output_type": "display_data"
    }
   ],
   "source": [
    "sns.heatmap(data=df_train.isnull())"
   ]
  },
  {
   "cell_type": "markdown",
   "metadata": {
    "id": "fgX5ou5yVLaX"
   },
   "source": [
    "Clean data, No missing Values"
   ]
  },
  {
   "cell_type": "code",
   "execution_count": 8,
   "metadata": {
    "colab": {
     "base_uri": "https://localhost:8080/",
     "height": 878
    },
    "id": "d2IOLhEqVNrT",
    "outputId": "94bd7fd1-e4d1-4197-eb5d-1c4cf0962e23"
   },
   "outputs": [
    {
     "data": {
      "image/png": "[encoded data removed]",
      "text/plain": [
       "<Figure size 1080x1080 with 25 Axes>"
      ]
     },
     "metadata": {
      "needs_background": "light"
     },
     "output_type": "display_data"
    }
   ],
   "source": [
    "df_train.hist(figsize=(15,15))\n",
    "plt.show()"
   ]
  },
  {
   "cell_type": "code",
   "execution_count": 9,
   "metadata": {
    "id": "s7d19OWdXuYt"
   },
   "outputs": [],
   "source": [
    "# Defining predictors and target \n",
    "predictors = list(df_train.columns[1:])\n",
    "target = [df_train.columns[0]]\n",
    "A_predictors = list(df_train.columns[1:12])\n",
    "B_predictors = list(df_train.columns[12:23])\n",
    "X_train = df_train[predictors]\n",
    "y_train = df_train[target]"
   ]
  },
  {
   "cell_type": "code",
   "execution_count": 10,
   "metadata": {
    "id": "RNKTI5zfYThA"
   },
   "outputs": [],
   "source": [
    "choice_A= df_train.loc[df_train['Choice']==0]\n",
    "choice_B= df_train.loc[df_train['Choice']==1]"
   ]
  },
  {
   "cell_type": "code",
   "execution_count": 11,
   "metadata": {
    "colab": {
     "base_uri": "https://localhost:8080/"
    },
    "id": "3PD4HjtOY4Vx",
    "outputId": "628bd056-47cf-4694-a49d-5cda94b832a1"
   },
   "outputs": [
    {
     "data": {
      "text/plain": [
       "2698"
      ]
     },
     "execution_count": 11,
     "metadata": {},
     "output_type": "execute_result"
    }
   ],
   "source": [
    "# visualizing each column distribution\n",
    "#x_space = np.linspace(start= df_train.A_follower_count.min(), stop=df_train.A_follower_count.max(),num=len(df_train['A_follower_count']))\n",
    "x_space = np.linspace(start= choice_A.A_follower_count.min(), stop=choice_A.A_follower_count.max(),num=len(choice_A['A_follower_count']))\n",
    "len(x_space)"
   ]
  },
  {
   "cell_type": "code",
   "execution_count": 12,
   "metadata": {
    "colab": {
     "base_uri": "https://localhost:8080/"
    },
    "id": "4Sj0NJJKZYep",
    "outputId": "dc362b9b-6e46-4213-e3f0-35ffe3a16b20"
   },
   "outputs": [
    {
     "data": {
      "text/plain": [
       "2802"
      ]
     },
     "execution_count": 12,
     "metadata": {},
     "output_type": "execute_result"
    }
   ],
   "source": [
    "x1_space = np.linspace(start= df_train.B_follower_count.min(), stop=df_train.B_follower_count.max(),num=len(df_train['B_follower_count']))\n",
    "x1_space = np.linspace(start= choice_B.B_follower_count.min(), stop=choice_B.B_follower_count.max(),num=len(choice_B['B_follower_count']))\n",
    "len(x1_space)"
   ]
  },
  {
   "cell_type": "code",
   "execution_count": 13,
   "metadata": {
    "colab": {
     "base_uri": "https://localhost:8080/",
     "height": 415
    },
    "id": "N8iWQlLqZt1r",
    "outputId": "e3658fb3-8665-4218-b7e1-2c29475a2a79"
   },
   "outputs": [
    {
     "data": {
      "text/plain": [
       "<matplotlib.collections.PathCollection at 0x193e9ed7760>"
      ]
     },
     "execution_count": 13,
     "metadata": {},
     "output_type": "execute_result"
    },
    {
     "data": {
      "image/png": "[encoded data removed]",
      "text/plain": [
       "<Figure size 864x432 with 1 Axes>"
      ]
     },
     "metadata": {
      "needs_background": "light"
     },
     "output_type": "display_data"
    }
   ],
   "source": [
    "fig = plt.figure(figsize=(12,6))\n",
    "plt.scatter(x_space,choice_A['A_follower_count'])"
   ]
  },
  {
   "cell_type": "code",
   "execution_count": 14,
   "metadata": {
    "colab": {
     "base_uri": "https://localhost:8080/",
     "height": 415
    },
    "id": "gnjPiA1yZ24b",
    "outputId": "94d12bb0-2475-49c2-a3a4-174ef70078ce"
   },
   "outputs": [
    {
     "data": {
      "text/plain": [
       "<matplotlib.collections.PathCollection at 0x193e9f11520>"
      ]
     },
     "execution_count": 14,
     "metadata": {},
     "output_type": "execute_result"
    },
    {
     "data": {
      "image/png": "[encoded data removed]",
      "text/plain": [
       "<Figure size 864x432 with 1 Axes>"
      ]
     },
     "metadata": {
      "needs_background": "light"
     },
     "output_type": "display_data"
    }
   ],
   "source": [
    "fig = plt.figure(figsize=(12,6))\n",
    "plt.scatter(x1_space,choice_B['B_follower_count'])"
   ]
  },
  {
   "cell_type": "code",
   "execution_count": 15,
   "metadata": {
    "colab": {
     "base_uri": "https://localhost:8080/"
    },
    "id": "dW9iHNWGbBlH",
    "outputId": "faca0af0-ba39-4fb2-ac9f-71848c3526c9"
   },
   "outputs": [
    {
     "name": "stdout",
     "output_type": "stream",
     "text": [
      "<class 'pandas.core.frame.DataFrame'>\n",
      "RangeIndex: 5952 entries, 0 to 5951\n",
      "Data columns (total 22 columns):\n",
      " #   Column               Non-Null Count  Dtype  \n",
      "---  ------               --------------  -----  \n",
      " 0   A_follower_count     5952 non-null   int64  \n",
      " 1   A_following_count    5952 non-null   int64  \n",
      " 2   A_listed_count       5952 non-null   int64  \n",
      " 3   A_mentions_received  5952 non-null   float64\n",
      " 4   A_retweets_received  5952 non-null   float64\n",
      " 5   A_mentions_sent      5952 non-null   float64\n",
      " 6   A_retweets_sent      5952 non-null   float64\n",
      " 7   A_posts              5952 non-null   float64\n",
      " 8   A_network_feature_1  5952 non-null   int64  \n",
      " 9   A_network_feature_2  5952 non-null   float64\n",
      " 10  A_network_feature_3  5952 non-null   float64\n",
      " 11  B_follower_count     5952 non-null   int64  \n",
      " 12  B_following_count    5952 non-null   int64  \n",
      " 13  B_listed_count       5952 non-null   int64  \n",
      " 14  B_mentions_received  5952 non-null   float64\n",
      " 15  B_retweets_received  5952 non-null   float64\n",
      " 16  B_mentions_sent      5952 non-null   float64\n",
      " 17  B_retweets_sent      5952 non-null   float64\n",
      " 18  B_posts              5952 non-null   float64\n",
      " 19  B_network_feature_1  5952 non-null   int64  \n",
      " 20  B_network_feature_2  5952 non-null   float64\n",
      " 21  B_network_feature_3  5952 non-null   float64\n",
      "dtypes: float64(14), int64(8)\n",
      "memory usage: 1023.1 KB\n"
     ]
    }
   ],
   "source": [
    "df_test.info()"
   ]
  },
  {
   "cell_type": "code",
   "execution_count": 16,
   "metadata": {
    "id": "fwYBKLgdaoFv"
   },
   "outputs": [],
   "source": [
    "A_predictors = list(df_test.columns[1:12])\n",
    "B_predictors = list(df_test.columns[12:23])\n",
    "X_test = df_test"
   ]
  },
  {
   "cell_type": "code",
   "execution_count": 17,
   "metadata": {
    "colab": {
     "base_uri": "https://localhost:8080/"
    },
    "id": "gLjp6QKcfPCq",
    "outputId": "74c5a887-2c89-4986-eb8f-c66b51612896"
   },
   "outputs": [
    {
     "name": "stdout",
     "output_type": "stream",
     "text": [
      "<class 'pandas.core.frame.DataFrame'>\n",
      "RangeIndex: 5500 entries, 0 to 5499\n",
      "Data columns (total 22 columns):\n",
      " #   Column               Non-Null Count  Dtype  \n",
      "---  ------               --------------  -----  \n",
      " 0   A_follower_count     5500 non-null   int64  \n",
      " 1   A_following_count    5500 non-null   int64  \n",
      " 2   A_listed_count       5500 non-null   int64  \n",
      " 3   A_mentions_received  5500 non-null   float64\n",
      " 4   A_retweets_received  5500 non-null   float64\n",
      " 5   A_mentions_sent      5500 non-null   float64\n",
      " 6   A_retweets_sent      5500 non-null   float64\n",
      " 7   A_posts              5500 non-null   float64\n",
      " 8   A_network_feature_1  5500 non-null   int64  \n",
      " 9   A_network_feature_2  5500 non-null   float64\n",
      " 10  A_network_feature_3  5500 non-null   float64\n",
      " 11  B_follower_count     5500 non-null   int64  \n",
      " 12  B_following_count    5500 non-null   int64  \n",
      " 13  B_listed_count       5500 non-null   int64  \n",
      " 14  B_mentions_received  5500 non-null   float64\n",
      " 15  B_retweets_received  5500 non-null   float64\n",
      " 16  B_mentions_sent      5500 non-null   float64\n",
      " 17  B_retweets_sent      5500 non-null   float64\n",
      " 18  B_posts              5500 non-null   float64\n",
      " 19  B_network_feature_1  5500 non-null   int64  \n",
      " 20  B_network_feature_2  5500 non-null   float64\n",
      " 21  B_network_feature_3  5500 non-null   float64\n",
      "dtypes: float64(14), int64(8)\n",
      "memory usage: 945.4 KB\n",
      "<class 'pandas.core.frame.DataFrame'>\n",
      "RangeIndex: 5952 entries, 0 to 5951\n",
      "Data columns (total 22 columns):\n",
      " #   Column               Non-Null Count  Dtype  \n",
      "---  ------               --------------  -----  \n",
      " 0   A_follower_count     5952 non-null   int64  \n",
      " 1   A_following_count    5952 non-null   int64  \n",
      " 2   A_listed_count       5952 non-null   int64  \n",
      " 3   A_mentions_received  5952 non-null   float64\n",
      " 4   A_retweets_received  5952 non-null   float64\n",
      " 5   A_mentions_sent      5952 non-null   float64\n",
      " 6   A_retweets_sent      5952 non-null   float64\n",
      " 7   A_posts              5952 non-null   float64\n",
      " 8   A_network_feature_1  5952 non-null   int64  \n",
      " 9   A_network_feature_2  5952 non-null   float64\n",
      " 10  A_network_feature_3  5952 non-null   float64\n",
      " 11  B_follower_count     5952 non-null   int64  \n",
      " 12  B_following_count    5952 non-null   int64  \n",
      " 13  B_listed_count       5952 non-null   int64  \n",
      " 14  B_mentions_received  5952 non-null   float64\n",
      " 15  B_retweets_received  5952 non-null   float64\n",
      " 16  B_mentions_sent      5952 non-null   float64\n",
      " 17  B_retweets_sent      5952 non-null   float64\n",
      " 18  B_posts              5952 non-null   float64\n",
      " 19  B_network_feature_1  5952 non-null   int64  \n",
      " 20  B_network_feature_2  5952 non-null   float64\n",
      " 21  B_network_feature_3  5952 non-null   float64\n",
      "dtypes: float64(14), int64(8)\n",
      "memory usage: 1023.1 KB\n"
     ]
    },
    {
     "data": {
      "text/plain": [
       "(None, None)"
      ]
     },
     "execution_count": 17,
     "metadata": {},
     "output_type": "execute_result"
    }
   ],
   "source": [
    "X_train.info(), X_test.info()"
   ]
  },
  {
   "cell_type": "code",
   "execution_count": 18,
   "metadata": {
    "id": "ocE3KcV3iUHx"
   },
   "outputs": [],
   "source": [
    "X= df_train[predictors] \n",
    "y =df_train[target]"
   ]
  },
  {
   "cell_type": "code",
   "execution_count": 19,
   "metadata": {
    "id": "vCBYJa8Uhp6U"
   },
   "outputs": [],
   "source": [
    "from sklearn.model_selection import train_test_split\n",
    "x_train, x_test,  y_train, y_test = train_test_split(X,y,test_size=0.2, random_state=5)"
   ]
  },
  {
   "cell_type": "code",
   "execution_count": 20,
   "metadata": {
    "colab": {
     "base_uri": "https://localhost:8080/"
    },
    "id": "J2vlKfEBZ_6k",
    "outputId": "b82317f2-5787-4f3d-8111-60de8ecf891a"
   },
   "outputs": [
    {
     "name": "stdout",
     "output_type": "stream",
     "text": [
      "Linear Regression\n",
      "Score:  0.183224920604799\n",
      "\n",
      "KNN\n"
     ]
    },
    {
     "name": "stderr",
     "output_type": "stream",
     "text": [
      "C:\\Users\\Raman\\AppData\\Local\\Programs\\Python\\Python39\\lib\\site-packages\\sklearn\\neighbors\\_classification.py:198: DataConversionWarning: A column-vector y was passed when a 1d array was expected. Please change the shape of y to (n_samples,), for example using ravel().\n",
      "  return self._fit(X, y)\n"
     ]
    },
    {
     "name": "stdout",
     "output_type": "stream",
     "text": [
      "Score:  0.7527272727272727\n",
      "\n"
     ]
    },
    {
     "name": "stderr",
     "output_type": "stream",
     "text": [
      "C:\\Users\\Raman\\AppData\\Local\\Programs\\Python\\Python39\\lib\\site-packages\\sklearn\\utils\\validation.py:993: DataConversionWarning: A column-vector y was passed when a 1d array was expected. Please change the shape of y to (n_samples, ), for example using ravel().\n",
      "  y = column_or_1d(y, warn=True)\n"
     ]
    },
    {
     "name": "stdout",
     "output_type": "stream",
     "text": [
      "SVM\n",
      "Score:  0.2373197361361401\n",
      "\n",
      "XGbr\n",
      "Score:  0.36161684943508476\n",
      "\n",
      "SGD\n",
      "Score:  -8.280172076278738e+44\n",
      "\n",
      "Decisiontree\n",
      "Score:  -0.08922053533643659\n",
      "\n"
     ]
    },
    {
     "name": "stderr",
     "output_type": "stream",
     "text": [
      "C:\\Users\\Raman\\AppData\\Local\\Programs\\Python\\Python39\\lib\\site-packages\\sklearn\\utils\\validation.py:993: DataConversionWarning: A column-vector y was passed when a 1d array was expected. Please change the shape of y to (n_samples, ), for example using ravel().\n",
      "  y = column_or_1d(y, warn=True)\n",
      "C:\\Users\\Raman\\AppData\\Local\\Temp/ipykernel_12836/3415854062.py:32: DataConversionWarning: A column-vector y was passed when a 1d array was expected. Please change the shape of y to (n_samples,), for example using ravel().\n",
      "  m.fit(x_train, y_train)\n"
     ]
    },
    {
     "name": "stdout",
     "output_type": "stream",
     "text": [
      "RandomForest\n",
      "Score:  0.43219991159856663\n",
      "\n"
     ]
    },
    {
     "name": "stderr",
     "output_type": "stream",
     "text": [
      "C:\\Users\\Raman\\AppData\\Local\\Programs\\Python\\Python39\\lib\\site-packages\\sklearn\\utils\\validation.py:993: DataConversionWarning: A column-vector y was passed when a 1d array was expected. Please change the shape of y to (n_samples, ), for example using ravel().\n",
      "  y = column_or_1d(y, warn=True)\n"
     ]
    },
    {
     "name": "stdout",
     "output_type": "stream",
     "text": [
      "LogisticRegression\n",
      "Score:  0.76\n",
      "\n"
     ]
    },
    {
     "name": "stderr",
     "output_type": "stream",
     "text": [
      "C:\\Users\\Raman\\AppData\\Local\\Programs\\Python\\Python39\\lib\\site-packages\\sklearn\\linear_model\\_logistic.py:814: ConvergenceWarning: lbfgs failed to converge (status=1):\n",
      "STOP: TOTAL NO. of ITERATIONS REACHED LIMIT.\n",
      "\n",
      "Increase the number of iterations (max_iter) or scale the data as shown in:\n",
      "    https://scikit-learn.org/stable/modules/preprocessing.html\n",
      "Please also refer to the documentation for alternative solver options:\n",
      "    https://scikit-learn.org/stable/modules/linear_model.html#logistic-regression\n",
      "  n_iter_i = _check_optimize_result(\n"
     ]
    }
   ],
   "source": [
    "from sklearn.model_selection import GridSearchCV\n",
    "from sklearn.linear_model import LinearRegression, LogisticRegression\n",
    "from sklearn.neighbors import KNeighborsClassifier\n",
    "from sklearn.tree import DecisionTreeClassifier\n",
    "from sklearn.ensemble import RandomForestClassifier\n",
    "from sklearn.naive_bayes import GaussianNB\n",
    "from sklearn.svm import SVC\n",
    "from sklearn.linear_model import SGDRegressor\n",
    "from sklearn.neighbors import KNeighborsRegressor\n",
    "from sklearn.tree import DecisionTreeRegressor\n",
    "from sklearn.ensemble import RandomForestRegressor\n",
    "from sklearn.svm import SVR\n",
    "from xgboost import XGBRegressor\n",
    "from sklearn.metrics import classification_report, confusion_matrix, mean_absolute_error, roc_curve, roc_auc_score, r2_score, mean_squared_error\n",
    "from sklearn import metrics\n",
    "from sklearn.discriminant_analysis  import LinearDiscriminantAnalysis\n",
    "\n",
    "models = {\n",
    "    \"Linear Regression\": LinearRegression(fit_intercept=True),\n",
    "    \"KNN\": KNeighborsClassifier(),\n",
    "    \"SVM\" :SVC(),\n",
    "    \"SVM\" :SVR(),\n",
    "    \"XGbr\":XGBRegressor(),\n",
    "    \"SGD\": SGDRegressor(),\n",
    "    \"Decisiontree\": DecisionTreeRegressor(),\n",
    "    \"RandomForest\": RandomForestRegressor(),\n",
    "    \"LogisticRegression\": LogisticRegression()\n",
    "}\n",
    "\n",
    "for model in models.items():\n",
    "    m = model[1]\n",
    "    m.fit(x_train, y_train)\n",
    "    print(model[0])\n",
    "    print(\"Score: \", m.score(x_test,y_test))\n",
    "    print(\"\")"
   ]
  },
  {
   "cell_type": "markdown",
   "metadata": {
    "id": "W9Qou8NOkOyw"
   },
   "source": [
    "**Predicting some of the value**"
   ]
  },
  {
   "cell_type": "code",
   "execution_count": 21,
   "metadata": {
    "colab": {
     "base_uri": "https://localhost:8080/"
    },
    "id": "URG7XEmYjvXG",
    "outputId": "1897bf69-a3a8-4350-a70d-77087926e166"
   },
   "outputs": [
    {
     "name": "stderr",
     "output_type": "stream",
     "text": [
      "C:\\Users\\Raman\\AppData\\Local\\Programs\\Python\\Python39\\lib\\site-packages\\sklearn\\utils\\validation.py:993: DataConversionWarning: A column-vector y was passed when a 1d array was expected. Please change the shape of y to (n_samples, ), for example using ravel().\n",
      "  y = column_or_1d(y, warn=True)\n",
      "C:\\Users\\Raman\\AppData\\Local\\Programs\\Python\\Python39\\lib\\site-packages\\sklearn\\linear_model\\_logistic.py:814: ConvergenceWarning: lbfgs failed to converge (status=1):\n",
      "STOP: TOTAL NO. of ITERATIONS REACHED LIMIT.\n",
      "\n",
      "Increase the number of iterations (max_iter) or scale the data as shown in:\n",
      "    https://scikit-learn.org/stable/modules/preprocessing.html\n",
      "Please also refer to the documentation for alternative solver options:\n",
      "    https://scikit-learn.org/stable/modules/linear_model.html#logistic-regression\n",
      "  n_iter_i = _check_optimize_result(\n"
     ]
    },
    {
     "data": {
      "text/plain": [
       "array([0, 0, 0, ..., 0, 0, 0], dtype=int64)"
      ]
     },
     "execution_count": 21,
     "metadata": {},
     "output_type": "execute_result"
    }
   ],
   "source": [
    "rfc = LogisticRegression()\n",
    "rfc.fit(X= df_train[predictors], y =df_train[target] )\n",
    "predict_values = rfc.predict(df_test)\n",
    "y = predict_values\n",
    "y"
   ]
  },
  {
   "cell_type": "code",
   "execution_count": 22,
   "metadata": {
    "colab": {
     "base_uri": "https://localhost:8080/"
    },
    "id": "wuwy9LS-kEb3",
    "outputId": "96fc801d-17f7-4067-cd95-4084e37e96fe"
   },
   "outputs": [
    {
     "name": "stderr",
     "output_type": "stream",
     "text": [
      "C:\\Users\\Raman\\AppData\\Local\\Programs\\Python\\Python39\\lib\\site-packages\\sklearn\\neighbors\\_classification.py:198: DataConversionWarning: A column-vector y was passed when a 1d array was expected. Please change the shape of y to (n_samples,), for example using ravel().\n",
      "  return self._fit(X, y)\n"
     ]
    },
    {
     "data": {
      "text/plain": [
       "array([1, 0, 0, ..., 1, 1, 0], dtype=int64)"
      ]
     },
     "execution_count": 22,
     "metadata": {},
     "output_type": "execute_result"
    }
   ],
   "source": [
    "rfc = KNeighborsClassifier()\n",
    "rfc.fit(X= df_train[predictors], y =df_train[target] )\n",
    "predict_values = rfc.predict(df_test)\n",
    "y = predict_values\n",
    "y"
   ]
  }
 ],
 "metadata": {
  "colab": {
   "name": "Untitled16.ipynb",
   "provenance": []
  },
  "kernelspec": {
   "display_name": "Python 3 (ipykernel)",
   "language": "python",
   "name": "python3"
  },
  "language_info": {
   "codemirror_mode": {
    "name": "ipython",
    "version": 3
   },
   "file_extension": ".py",
   "mimetype": "text/x-python",
   "name": "python",
   "nbconvert_exporter": "python",
   "pygments_lexer": "ipython3",
   "version": "3.9.8"
  }
 },
 "nbformat": 4,
 "nbformat_minor": 4
}
